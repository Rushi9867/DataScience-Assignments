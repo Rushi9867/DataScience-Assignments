{
 "cells": [
  {
   "cell_type": "markdown",
   "metadata": {},
   "source": [
    "### 1.Write a Python program to print 'Hello Python' ?"
   ]
  },
  {
   "cell_type": "code",
   "execution_count": 1,
   "metadata": {},
   "outputs": [
    {
     "name": "stdout",
     "output_type": "stream",
     "text": [
      "Hello Python\n"
     ]
    }
   ],
   "source": [
    "print(\"Hello Python\")"
   ]
  },
  {
   "cell_type": "markdown",
   "metadata": {},
   "source": [
    "### 2.Write a Python program to do arithmetic operations addition and division ?"
   ]
  },
  {
   "cell_type": "code",
   "execution_count": 14,
   "metadata": {},
   "outputs": [
    {
     "name": "stdout",
     "output_type": "stream",
     "text": [
      "Addition is:  165\n",
      "Division is:  0.6836734693877551\n"
     ]
    }
   ],
   "source": [
    "def adddiv():\n",
    "    a = int(input(\"Enter first number\")) #67\n",
    "    b = int(input(\"Enter second number\")) #98\n",
    "    print(\"Addition is: \",a+b)\n",
    "    print(\"Division is: \",a/b)\n",
    "\n",
    "adddiv()"
   ]
  },
  {
   "cell_type": "markdown",
   "metadata": {},
   "source": [
    "### 3.Write a Python program to find the area of a triangle ?"
   ]
  },
  {
   "cell_type": "code",
   "execution_count": 15,
   "metadata": {},
   "outputs": [
    {
     "name": "stdout",
     "output_type": "stream",
     "text": [
      "Area of triangle:  33.5 89\n"
     ]
    }
   ],
   "source": [
    "def areaOfTriangle():\n",
    "    height = int(input('Enter height of triangle: ')) # 67\n",
    "    base = int(input('Enter base of triangle: ')) # 89\n",
    "    print('Area of triangle: ',0.5*height,base)\n",
    "\n",
    "areaOfTriangle()"
   ]
  },
  {
   "cell_type": "markdown",
   "metadata": {},
   "source": [
    "### 4.Write a Python program to swap two variables ?"
   ]
  },
  {
   "cell_type": "code",
   "execution_count": 17,
   "metadata": {},
   "outputs": [
    {
     "name": "stdout",
     "output_type": "stream",
     "text": [
      "Before swapping: 22 54\n",
      "After swapping: 54 22\n"
     ]
    }
   ],
   "source": [
    "def swapNumbers():\n",
    "    a = int(input(\"Enter first number\")) # 22\n",
    "    b = int(input(\"Enter second number\")) # 54\n",
    "    print('Before swapping:',a,b)\n",
    "    temp = a\n",
    "    a = b\n",
    "    b = temp \n",
    "    print('After swapping:',a,b)\n",
    "\n",
    "swapNumbers()"
   ]
  },
  {
   "cell_type": "markdown",
   "metadata": {},
   "source": [
    "### 5.Write a Python program to generate a random number ?"
   ]
  },
  {
   "cell_type": "code",
   "execution_count": 18,
   "metadata": {},
   "outputs": [
    {
     "name": "stdout",
     "output_type": "stream",
     "text": [
      "Random Number:  295351\n",
      "Random Number:  16\n"
     ]
    }
   ],
   "source": [
    "from random import randint \n",
    "def generateRandonNumber(start =0,end=1000000):\n",
    "    print('Random Number: ',randint(start,end))\n",
    "\n",
    "generateRandonNumber()\n",
    "generateRandonNumber(0,100)"
   ]
  },
  {
   "cell_type": "code",
   "execution_count": null,
   "metadata": {},
   "outputs": [],
   "source": []
  }
 ],
 "metadata": {
  "kernelspec": {
   "display_name": "Python 3.10.0 64-bit",
   "language": "python",
   "name": "python3"
  },
  "language_info": {
   "codemirror_mode": {
    "name": "ipython",
    "version": 3
   },
   "file_extension": ".py",
   "mimetype": "text/x-python",
   "name": "python",
   "nbconvert_exporter": "python",
   "pygments_lexer": "ipython3",
   "version": "3.10.0"
  },
  "orig_nbformat": 4,
  "vscode": {
   "interpreter": {
    "hash": "369f2c481f4da34e4445cda3fffd2e751bd1c4d706f27375911949ba6bb62e1c"
   }
  }
 },
 "nbformat": 4,
 "nbformat_minor": 2
}
